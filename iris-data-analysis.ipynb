{
 "cells": [
  {
   "cell_type": "markdown",
   "id": "2ef25103",
   "metadata": {},
   "source": [
    "# 📊 Analyzing Data with Pandas & Visualizing with Matplotlib\n",
    " \n",
    "Dataset: **Iris dataset**"
   ]
  },
  {
   "cell_type": "code",
   "execution_count": null,
   "id": "593bbf4d",
   "metadata": {
    "vscode": {
     "languageId": "plaintext"
    }
   },
   "outputs": [],
   "source": [
    "import pandas as pd\n",
    "import matplotlib.pyplot as plt\n",
    "import seaborn as sns\n",
    "from sklearn.datasets import load_iris\n",
    "import os"
   ]
  },
  {
   "cell_type": "markdown",
   "id": "8f77aeba",
   "metadata": {},
   "source": [
    "## Load and Explore Dataset"
   ]
  },
  {
   "cell_type": "code",
   "execution_count": null,
   "id": "d54b6798",
   "metadata": {
    "vscode": {
     "languageId": "plaintext"
    }
   },
   "outputs": [],
   "source": [
    "# Load dataset with error handling\n",
    "try:\n",
    "    iris = load_iris(as_frame=True)\n",
    "    df = iris.frame\n",
    "    df.rename(columns={'target': 'species'}, inplace=True)\n",
    "    df['species'] = df['species'].map(dict(zip(range(3), iris.target_names)))\n",
    "    print(\"✅ Dataset loaded successfully!\")\n",
    "except FileNotFoundError:\n",
    "    print(\"❌ Error: Dataset file not found.\")\n",
    "except Exception as e:\n",
    "    print(\"❌ Error loading dataset:\", e)\n",
    "\n",
    "# Display first rows\n",
    "df.head()"
   ]
  },
  {
   "cell_type": "code",
   "execution_count": null,
   "id": "5b90b66f",
   "metadata": {
    "vscode": {
     "languageId": "plaintext"
    }
   },
   "outputs": [],
   "source": [
    "# Dataset info\n",
    "print(\"\\nDataset info:\")\n",
    "print(df.info())\n",
    "\n",
    "print(\"\\nMissing values per column:\")\n",
    "print(df.isnull().sum())"
   ]
  },
  {
   "cell_type": "markdown",
   "id": "9d8e4c5c",
   "metadata": {},
   "source": [
    "## Basic Data Analysis"
   ]
  },
  {
   "cell_type": "code",
   "execution_count": null,
   "id": "6b869317",
   "metadata": {
    "vscode": {
     "languageId": "plaintext"
    }
   },
   "outputs": [],
   "source": [
    "# Descriptive statistics\n",
    "df.describe()"
   ]
  },
  {
   "cell_type": "code",
   "execution_count": null,
   "id": "e59e8fa5",
   "metadata": {
    "vscode": {
     "languageId": "plaintext"
    }
   },
   "outputs": [],
   "source": [
    "# Group by species and compute means\n",
    "grouped_means = df.groupby('species').mean()\n",
    "grouped_means"
   ]
  },
  {
   "cell_type": "code",
   "execution_count": null,
   "id": "7429d2c6",
   "metadata": {
    "vscode": {
     "languageId": "plaintext"
    }
   },
   "outputs": [],
   "source": [
    "# Inference\n",
    "print(\"Observation: Iris-virginica tends to have the largest petal dimensions on average.\")"
   ]
  },
  {
   "cell_type": "markdown",
   "id": "e76a80fe",
   "metadata": {},
   "source": [
    "## Data Visualization"
   ]
  },
  {
   "cell_type": "code",
   "execution_count": null,
   "id": "c0caa277",
   "metadata": {
    "vscode": {
     "languageId": "plaintext"
    }
   },
   "outputs": [],
   "source": [
    "# Ensure output directory exists\n",
    "os.makedirs(\"plots\", exist_ok=True)"
   ]
  },
  {
   "cell_type": "code",
   "execution_count": null,
   "id": "190346d9",
   "metadata": {
    "vscode": {
     "languageId": "plaintext"
    }
   },
   "outputs": [],
   "source": [
    "df_sorted = df.sort_values(by=\"petal length (cm)\")\n",
    "plt.figure(figsize=(8,5))\n",
    "plt.plot(df_sorted[\"petal length (cm)\"].reset_index(drop=True))\n",
    "plt.title(\"Line Chart: Petal Length Trend\")\n",
    "plt.xlabel(\"Sample Index (sorted by petal length)\")\n",
    "plt.ylabel(\"Petal Length (cm)\")\n",
    "plt.grid(True)\n",
    "plt.savefig(\"plots/line_chart.png\")\n",
    "plt.show()"
   ]
  },
  {
   "cell_type": "code",
   "execution_count": null,
   "id": "1f93bd49",
   "metadata": {
    "vscode": {
     "languageId": "plaintext"
    }
   },
   "outputs": [],
   "source": [
    "plt.figure(figsize=(8,5))\n",
    "sns.barplot(x=\"species\", y=\"petal length (cm)\", data=df, estimator=\"mean\", ci=None)\n",
    "plt.title(\"Bar Chart: Avg Petal Length by Species\")\n",
    "plt.ylabel(\"Average Petal Length (cm)\")\n",
    "plt.savefig(\"plots/bar_chart.png\")\n",
    "plt.show()"
   ]
  },
  {
   "cell_type": "code",
   "execution_count": null,
   "id": "9615ca12",
   "metadata": {
    "vscode": {
     "languageId": "plaintext"
    }
   },
   "outputs": [],
   "source": [
    "plt.figure(figsize=(8,5))\n",
    "plt.hist(df[\"sepal width (cm)\"], bins=15, edgecolor=\"black\")\n",
    "plt.title(\"Histogram: Sepal Width Distribution\")\n",
    "plt.xlabel(\"Sepal Width (cm)\")\n",
    "plt.ylabel(\"Frequency\")\n",
    "plt.savefig(\"plots/histogram.png\")\n",
    "plt.show()"
   ]
  },
  {
   "cell_type": "code",
   "execution_count": null,
   "id": "41dccf8e",
   "metadata": {
    "vscode": {
     "languageId": "plaintext"
    }
   },
   "outputs": [],
   "source": [
    "plt.figure(figsize=(8,5))\n",
    "sns.scatterplot(x=\"sepal length (cm)\", y=\"petal length (cm)\", hue=\"species\", data=df)\n",
    "plt.title(\"Scatter Plot: Sepal vs. Petal Length\")\n",
    "plt.xlabel(\"Sepal Length (cm)\")\n",
    "plt.ylabel(\"Petal Length (cm)\")\n",
    "plt.legend(title=\"Species\")\n",
    "plt.savefig(\"plots/scatter_plot.png\")\n",
    "plt.show()"
   ]
  }
 ],
 "metadata": {
  "language_info": {
   "name": "python"
  }
 },
 "nbformat": 4,
 "nbformat_minor": 5
}
