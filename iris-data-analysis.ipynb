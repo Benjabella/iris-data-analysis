{
 "cells": [
  {
   "cell_type": "markdown",
   "id": "2ef25103",
   "metadata": {},
   "source": [
    "# 📊 Analyzing Data with Pandas & Visualizing with Matplotlib\n",
    " \n",
    "Dataset: **Iris dataset**"
   ]
  },
  {
   "cell_type": "code",
   "execution_count": 2,
   "id": "593bbf4d",
   "metadata": {},
   "outputs": [
    {
     "ename": "ModuleNotFoundError",
     "evalue": "No module named 'pandas'",
     "output_type": "error",
     "traceback": [
      "\u001b[31m---------------------------------------------------------------------------\u001b[39m",
      "\u001b[31mModuleNotFoundError\u001b[39m                       Traceback (most recent call last)",
      "\u001b[36mCell\u001b[39m\u001b[36m \u001b[39m\u001b[32mIn[2]\u001b[39m\u001b[32m, line 1\u001b[39m\n\u001b[32m----> \u001b[39m\u001b[32m1\u001b[39m \u001b[38;5;28;01mimport\u001b[39;00m\u001b[38;5;250m \u001b[39m\u001b[34;01mpandas\u001b[39;00m\u001b[38;5;250m \u001b[39m\u001b[38;5;28;01mas\u001b[39;00m\u001b[38;5;250m \u001b[39m\u001b[34;01mpd\u001b[39;00m\n\u001b[32m      2\u001b[39m \u001b[38;5;28;01mimport\u001b[39;00m\u001b[38;5;250m \u001b[39m\u001b[34;01mmatplotlib\u001b[39;00m\u001b[34;01m.\u001b[39;00m\u001b[34;01mpyplot\u001b[39;00m\u001b[38;5;250m \u001b[39m\u001b[38;5;28;01mas\u001b[39;00m\u001b[38;5;250m \u001b[39m\u001b[34;01mplt\u001b[39;00m\n\u001b[32m      3\u001b[39m \u001b[38;5;28;01mimport\u001b[39;00m\u001b[38;5;250m \u001b[39m\u001b[34;01mseaborn\u001b[39;00m\u001b[38;5;250m \u001b[39m\u001b[38;5;28;01mas\u001b[39;00m\u001b[38;5;250m \u001b[39m\u001b[34;01msns\u001b[39;00m\n",
      "\u001b[31mModuleNotFoundError\u001b[39m: No module named 'pandas'"
     ]
    }
   ],
   "source": [
    "import pandas as pd\n",
    "import matplotlib.pyplot as plt\n",
    "import seaborn as sns\n",
    "from sklearn.datasets import load_iris\n",
    "import os"
   ]
  },
  {
   "cell_type": "markdown",
   "id": "8f77aeba",
   "metadata": {},
   "source": [
    "## Load and Explore Dataset"
   ]
  },
  {
   "cell_type": "code",
   "execution_count": null,
   "id": "d54b6798",
   "metadata": {},
   "outputs": [],
   "source": [
    "# Load dataset with error handling\n",
    "try:\n",
    "    iris = load_iris(as_frame=True)\n",
    "    df = iris.frame\n",
    "    df.rename(columns={'target': 'species'}, inplace=True)\n",
    "    df['species'] = df['species'].map(dict(zip(range(3), iris.target_names)))\n",
    "    print(\"✅ Dataset loaded successfully!\")\n",
    "except FileNotFoundError:\n",
    "    print(\"❌ Error: Dataset file not found.\")\n",
    "except Exception as e:\n",
    "    print(\"❌ Error loading dataset:\", e)\n",
    "\n",
    "# Display first rows\n",
    "df.head()"
   ]
  },
  {
   "cell_type": "code",
   "execution_count": null,
   "id": "5b90b66f",
   "metadata": {},
   "outputs": [],
   "source": [
    "# Dataset info\n",
    "print(\"\\nDataset info:\")\n",
    "print(df.info())\n",
    "\n",
    "print(\"\\nMissing values per column:\")\n",
    "print(df.isnull().sum())"
   ]
  },
  {
   "cell_type": "markdown",
   "id": "9d8e4c5c",
   "metadata": {},
   "source": [
    "## Basic Data Analysis"
   ]
  },
  {
   "cell_type": "code",
   "execution_count": null,
   "id": "6b869317",
   "metadata": {},
   "outputs": [],
   "source": [
    "# Descriptive statistics\n",
    "df.describe()"
   ]
  },
  {
   "cell_type": "code",
   "execution_count": null,
   "id": "e59e8fa5",
   "metadata": {},
   "outputs": [],
   "source": [
    "# Group by species and compute means\n",
    "grouped_means = df.groupby('species').mean()\n",
    "grouped_means"
   ]
  },
  {
   "cell_type": "code",
   "execution_count": null,
   "id": "7429d2c6",
   "metadata": {},
   "outputs": [],
   "source": [
    "# Inference\n",
    "print(\"Observation: Iris-virginica tends to have the largest petal dimensions on average.\")"
   ]
  },
  {
   "cell_type": "markdown",
   "id": "e76a80fe",
   "metadata": {},
   "source": [
    "## Data Visualization"
   ]
  },
  {
   "cell_type": "code",
   "execution_count": null,
   "id": "c0caa277",
   "metadata": {},
   "outputs": [],
   "source": [
    "# Ensure output directory exists\n",
    "os.makedirs(\"plots\", exist_ok=True)"
   ]
  },
  {
   "cell_type": "code",
   "execution_count": null,
   "id": "190346d9",
   "metadata": {},
   "outputs": [],
   "source": [
    "df_sorted = df.sort_values(by=\"petal length (cm)\")\n",
    "plt.figure(figsize=(8,5))\n",
    "plt.plot(df_sorted[\"petal length (cm)\"].reset_index(drop=True))\n",
    "plt.title(\"Line Chart: Petal Length Trend\")\n",
    "plt.xlabel(\"Sample Index (sorted by petal length)\")\n",
    "plt.ylabel(\"Petal Length (cm)\")\n",
    "plt.grid(True)\n",
    "plt.savefig(\"plots/line_chart.png\")\n",
    "plt.show()"
   ]
  },
  {
   "cell_type": "code",
   "execution_count": null,
   "id": "1f93bd49",
   "metadata": {},
   "outputs": [],
   "source": [
    "plt.figure(figsize=(8,5))\n",
    "sns.barplot(x=\"species\", y=\"petal length (cm)\", data=df, estimator=\"mean\", ci=None)\n",
    "plt.title(\"Bar Chart: Avg Petal Length by Species\")\n",
    "plt.ylabel(\"Average Petal Length (cm)\")\n",
    "plt.savefig(\"plots/bar_chart.png\")\n",
    "plt.show()"
   ]
  },
  {
   "cell_type": "code",
   "execution_count": null,
   "id": "9615ca12",
   "metadata": {},
   "outputs": [],
   "source": [
    "plt.figure(figsize=(8,5))\n",
    "plt.hist(df[\"sepal width (cm)\"], bins=15, edgecolor=\"black\")\n",
    "plt.title(\"Histogram: Sepal Width Distribution\")\n",
    "plt.xlabel(\"Sepal Width (cm)\")\n",
    "plt.ylabel(\"Frequency\")\n",
    "plt.savefig(\"plots/histogram.png\")\n",
    "plt.show()"
   ]
  },
  {
   "cell_type": "code",
   "execution_count": null,
   "id": "41dccf8e",
   "metadata": {},
   "outputs": [],
   "source": [
    "plt.figure(figsize=(8,5))\n",
    "sns.scatterplot(x=\"sepal length (cm)\", y=\"petal length (cm)\", hue=\"species\", data=df)\n",
    "plt.title(\"Scatter Plot: Sepal vs. Petal Length\")\n",
    "plt.xlabel(\"Sepal Length (cm)\")\n",
    "plt.ylabel(\"Petal Length (cm)\")\n",
    "plt.legend(title=\"Species\")\n",
    "plt.savefig(\"plots/scatter_plot.png\")\n",
    "plt.show()"
   ]
  }
 ],
 "metadata": {
  "kernelspec": {
   "display_name": "Python 3",
   "language": "python",
   "name": "python3"
  },
  "language_info": {
   "codemirror_mode": {
    "name": "ipython",
    "version": 3
   },
   "file_extension": ".py",
   "mimetype": "text/x-python",
   "name": "python",
   "nbconvert_exporter": "python",
   "pygments_lexer": "ipython3",
   "version": "3.13.7"
  }
 },
 "nbformat": 4,
 "nbformat_minor": 5
}
